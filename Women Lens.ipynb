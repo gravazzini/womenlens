{
  "cells": [
    {
      "cell_type": "markdown",
      "metadata": {},
      "source": [
        "<h1><span style=\"color:#0096FF\">Women Lens</span></h1>"
      ]
    },
    {
      "cell_type": "markdown",
      "metadata": {},
      "source": [
        "<h2>Abstract</h2>"
      ]
    },
    {
      "cell_type": "markdown",
      "metadata": {},
      "source": [
        "<h4>Photographers selection</h4>"
      ]
    },
    {
      "cell_type": "markdown",
      "metadata": {},
      "source": [
        "    SELECT ?item ?itemLabel WHERE {\n",
        "    SERVICE wikibase:label { bd:serviceParam wikibase:language \"[AUTO_LANGUAGE],en,es,fr,de,nl,it\". }\n",
        "    ?item wdt:P21 wd:Q6581072;\n",
        "    wdt:P31 wd:Q5.\n",
        "    ?item wdt:P106 wd:Q33231."
      ]
    },
    {
      "cell_type": "markdown",
      "metadata": {},
      "source": [
        "// Spiegazione query"
      ]
    },
    {
      "cell_type": "markdown",
      "metadata": {},
      "source": [
        "<h3>1. Timespan: pioneer, revolutionary and visionary photographers</h3>"
      ]
    },
    {
      "cell_type": "markdown",
      "metadata": {},
      "source": [
        "#### Queries"
      ]
    },
    {
      "cell_type": "markdown",
      "metadata": {},
      "source": [
        "    SELECT ?item ?itemLabel ?birthDate ?birthDateLabel ?deathDate ?deathDateLabel WHERE {\n",
        "      SERVICE wikibase:label { bd:serviceParam wikibase:language \"[AUTO_LANGUAGE],en,es,fr,de,nl,it\". }\n",
        "      ?item wdt:P21 wd:Q6581072;\n",
        "        wdt:P31 wd:Q5;\n",
        "        wdt:P106 wd:Q33231.\n",
        "      OPTIONAL { ?item wdt:P569 ?birthDate. }\n",
        "      OPTIONAL { ?item wdt:P570 ?deathDate. }\n",
        "    }\n"
      ]
    },
    {
      "cell_type": "markdown",
      "metadata": {},
      "source": [
        "// Spiegazione query"
      ]
    },
    {
      "cell_type": "markdown",
      "metadata": {},
      "source": [
        "<h4>Creazione delle strutture dati e dichiarazione delle variabili globali</h4>"
      ]
    },
    {
      "cell_type": "code",
      "execution_count": 1,
      "metadata": {},
      "outputs": [
        {
          "data": {
            "application/javascript": "\n// File variables.js\n\n// Dataset photographer\nvar dataSet = new Array();\nconst debug = false;\n////////////////////////////////////////////////////////////////////////////////////////////////////////////////////////\n\n// Chart: occupations over the decades\nvar occupationsChart;\n\nvar minDecade = 2020;\nvar maxDecade = 0;\nvar decadesOccupations = {};\n////////////////////////////////////////////////////////////////////////////////////////////////////////////////////////\n\n// Occupations divised by groups\nconst occupationsGroups = {\n    architectureSculpture : [\n        'architect', \n        'architectural photographer', \n        'urban planner', \n        'sculptor',\n        'industrial designer'\n    ],\n    visualArt : [\n        'illustrator', \n        'painter', \n        'drawer', \n        'designer', \n        'graphic designer', \n        'graphic artist', \n        'visual artist', \n        'collagist', \n        'installation artist', \n        'conceptual artist',\n        'textile artist',\n        'glass artist',\n        'fashion designer'\n    ],\n    literature : [\n        'writer', \n        'poet', \n        'literary critic', \n        'novelist', \n        'autobiographer', \n        'diarist', \n        'biographer'\n    ],\n    cinemaMusicTheatre : [\n        'film actress', \n        'cinematographer', \n        'camera operator', \n        'filmmaker', \n        'film director', \n        'director', \n        'film editor', \n        'screenwriter', \n        'film producer', \n        'actress', \n        'stage actress', \n        'choreographer', \n        'ballet dancer', \n        'singer'\n    ],\n    mediaArt : [\n        'photojournalist',\n        'war photographer',\n        'portrait photographer',\n        'fashion photographer',\n        'television producer',\n        'multi-media artist',\n        'music video director',\n        'installation artist',\n        'conceptual artist'\n    ],\n    nonArtistic : [\n        'botanist',\n        'model',\n        'journalist',\n        'activist',\n        'teacher',\n        'hatter',\n        'oceanographer',\n        'wet nurse',\n        'resistance fighter',\n        'anthropologist',\n        'feminist',\n        'business woman',\n        'politician',\n        'editor',\n        'spy',\n        'printmaker',\n        'translator'\n    ]\n};\n////////////////////////////////////////////////////////////////////////////////////////////////////////////////////////\n\n// Full list of occupations\nvar allOccupations = [\n    'writer', \n    'illustrator', \n    'botanical collector', \n    'botanist', \n    'courtesan', \n    'artist', \n    'model', \n    'painter', \n    'photojournalist', \n    'journalist', \n    'architectural photographer', \n    'war photographer', \n    'portrait photographer', \n    'fashion photographer', \n    'actress', \n    'stage actress', \n    'film actress', \n    'activist', \n    'teacher', \n    'opinion journalist', \n    'architect', \n    'urban planner', \n    'drawer', \n    'university teacher', \n    'designer', \n    'resistance fighter', \n    'art dealer', \n    'graphic designer', \n    'illustartor', \n    'graphic artist', \n    'textile artist', \n    'sculptor', \n    'industrial designer', \n    'spy', \n    'literary critic', \n    'novelist', \n    'autobiographer', \n    'poet', \n    'choreographer', \n    'documentarian', \n    'war correspondent', \n    'glass artist', \n    'printmaker', \n    'translator', \n    'cinematographer', \n    'camera operator', \n    'filmmaker', \n    'editor', \n    'film director', \n    'director', \n    'fashion designer', \n    'film editor', \n    'singer', \n    'hatter', \n    'screenwriter', \n    'oceanographer', \n    'diarist', \n    'wet nurse', \n    'French Resistance fighter', \n    'anthropologist', \n    'feminist', \n    'ballet dancer', \n    'visual artist', \n    'business woman', \n    'politician', \n    'publisher', \n    'fashion editor', \n    'collagist', \n    'multi-media artist', \n    'biographer', \n    'installation artist', \n    'conceptual artist', \n    'video artist', \n    'television producer', \n    'exhibition curator', \n    'performance artist', \n    'art theorist', \n    'video installation artist', \n    'music video director', \n    'pedagogue', \n    'film producer', \n    'actor'\n];\n////////////////////////////////////////////////////////////////////////////////////////////////////////////////////////\n\n// Chart: countries\nvar countriesChart;\n\nvar countries = {};\nvar countriesLabels = [];\nvar countriesValues = [];\n////////////////////////////////////////////////////////////////////////////////////////////////////////////////////////\n\n// Chart: occupations over the countries\nvar occupationsCountriesChart;\n\nvar countriesOccupations = {}\n\nconst selectedCountries = [\n    'United States of America',\n    'France',\n    'Germany',\n    'United Kingdom'\n];\n\nconst selectedOccupations = [\n    'architectural photographer',\n    'sculptor',\n    'writer',\n    'painter',\n    'film director',\n    'photojournalist',\n    'model',\n    'war photographer',\n    'screenwriter',\n    'visual artist',\n    'teacher',\n    'printmaker',\n    'journalist'\n];\n////////////////////////////////////////////////////////////////////////////////////////////////////////////////////////\n\n// Chart: cake\nvar phTypeChart;\n////////////////////////////////////////////////////////////////////////////////////////////////////////////////////////\n\n// Link API\nconst urlTimeLine = 'https://docs.google.com/spreadsheets/d/e/2PACX-1vQsRkWcOsiueCplEVwhyWjtVqUHvG94knzINrD5-pgrzcO31_anwLXhDzBN-Lgy9NzqEbzX7ei66X6L/pub?gid=0&single=true&output=csv';\nconst urlCountry = 'https://docs.google.com/spreadsheets/d/e/2PACX-1vQsRkWcOsiueCplEVwhyWjtVqUHvG94knzINrD5-pgrzcO31_anwLXhDzBN-Lgy9NzqEbzX7ei66X6L/pub?gid=1905568726&single=true&output=csv';\nconst urlOccupations = 'https://docs.google.com/spreadsheets/d/e/2PACX-1vQsRkWcOsiueCplEVwhyWjtVqUHvG94knzINrD5-pgrzcO31_anwLXhDzBN-Lgy9NzqEbzX7ei66X6L/pub?gid=1144740092&single=true&output=csv';\n////////////////////////////////////////////////////////////////////////////////////////////////////////////////////////\n\n// Colors (17)\nconst graphBackgroundColor = [\n    'rgba(251, 80, 18, 0.6)',\n    'rgba(1, 253, 246, 0.6)',\n    'rgba(203, 186, 237, 0.6)',\n    'rgba(233, 223, 0, 0.6)',\n    'rgba(3, 252, 186, 0.6)',\n    'rgba(150, 189, 198, 0.6)',\n    'rgba(129, 150, 143, 0.6)',\n    'rgba(232, 204, 191, 0.6)',\n    'rgba(42, 42, 114, 0.6)',\n    'rgba(233, 214, 236, 0.6)',\n    'rgba(233, 128, 110, 0.6)',\n    'rgba(197, 155, 118, 0.6)',\n    'rgba(120, 188, 97, 0.6)',\n    'rgba(192, 199, 129, 0.6)',\n    'rgba(255, 172, 228, 0.6)',\n    'rgba(236, 78, 32, 0.6)',\n    'rgba(138, 79, 125, 0.6)'\n];\n\nconst graphBorderColor = [\n    'rgba(251, 80, 18, 1)',\n    'rgba(1, 253, 246, 1)',\n    'rgba(203, 186, 237, 1)',\n    'rgba(233, 223, 0, 1)',\n    'rgba(3, 252, 186, 1)',\n    'rgba(150, 189, 198, 1)',\n    'rgba(129, 150, 143, 1)',\n    'rgba(232, 204, 191, 1)',\n    'rgba(42, 42, 114, 1)',\n    'rgba(233, 214, 236, 1)',\n    'rgba(233, 128, 110, 1)',\n    'rgba(197, 155, 118, 1)',\n    'rgba(120, 188, 97, 1)',\n    'rgba(192, 199, 129, 1)',\n    'rgba(255, 172, 228, 1)',\n    'rgba(236, 78, 32, 1)',\n    'rgba(138, 79, 125, 1)'\n];\n////////////////////////////////////////////////////////////////////////////////////////////////////////////////////////\n\n// Photographer class\nclass photographerData {\n    constructor(name = '', country = '', occupations = [], birthDate = '', deathDate = '', phLink = '', cLink = '', birthDecade = '', deathDecade = '', type = '') {\n        this.name = name;\n        this.country = country;\n        this.occupations = occupations;\n        this.birthDate = birthDate;\n        this.deathDate = deathDate;\n        this.phLink = phLink;\n        this.cLink = cLink;\n        this.birthDecade = birthDecade;\n        this.deathDecade = deathDecade;\n        this.type = type;\n    }\n\n    // Set methods\n    setName(name) {\n        this.name = name;\n    }\n\n    setCountry(country) {\n        this.country = country;\n    }\n\n    setOccupations(occupations) {\n        this.occupations = occupations;\n    }\n\n    setBirthDate(birthDate) {\n        this.birthDate = birthDate;\n    }\n\n    setDeathDate(deathDate) {\n        this.deathDate = deathDate;\n    }\n\n    setPhLink(phLink) {\n        this.phLink = phLink;\n    }\n\n    setCLink(cLink) {\n        this.cLink = cLink;\n    }\n\n    setBirthDecade(birthDecade) {\n        this.birthDecade = birthDecade;\n    }\n\n    setDeathDecade(deathDecade) {\n        this.deathDecade = deathDecade;\n    }\n\n    setType(type) {\n        this.type = type;\n    }\n\n    // Get methods\n    getName() {\n        return this.name;\n    }\n\n    getCountry() {\n        return this.country;\n    }\n\n    getOccupations() {\n        return this.occupations;\n    }\n\n    getBirthDate() {\n        return this.birthDate;\n    }\n\n    getDeathDate() {\n        return this.deathDate;\n    }\n\n    getPhLink() {\n        return this.phLink;\n    }\n\n    getBirthDecade() {\n        return this.birthDecade;\n    }\n\n    getDeathDecade() {\n        return this.deathDecade;\n    }\n\n    getType() {\n        return this.type;\n    }\n\n}\n",
            "text/plain": [
              "<IPython.core.display.Javascript object>"
            ]
          },
          "metadata": {},
          "output_type": "display_data"
        }
      ],
      "source": [
        "%%js\n",
        "\n",
        "// File variables.js\n",
        "\n",
        "// Dataset photographer\n",
        "var dataSet = new Array();\n",
        "const debug = false;\n",
        "////////////////////////////////////////////////////////////////////////////////////////////////////////////////////////\n",
        "\n",
        "// Chart: occupations over the decades\n",
        "var occupationsChart;\n",
        "\n",
        "var minDecade = 2020;\n",
        "var maxDecade = 0;\n",
        "var decadesOccupations = {};\n",
        "////////////////////////////////////////////////////////////////////////////////////////////////////////////////////////\n",
        "\n",
        "// Occupations divised by groups\n",
        "const occupationsGroups = {\n",
        "    architectureSculpture : [\n",
        "        'architect', \n",
        "        'architectural photographer', \n",
        "        'urban planner', \n",
        "        'sculptor',\n",
        "        'industrial designer'\n",
        "    ],\n",
        "    visualArt : [\n",
        "        'illustrator', \n",
        "        'painter', \n",
        "        'drawer', \n",
        "        'designer', \n",
        "        'graphic designer', \n",
        "        'graphic artist', \n",
        "        'visual artist', \n",
        "        'collagist', \n",
        "        'installation artist', \n",
        "        'conceptual artist',\n",
        "        'textile artist',\n",
        "        'glass artist',\n",
        "        'fashion designer'\n",
        "    ],\n",
        "    literature : [\n",
        "        'writer', \n",
        "        'poet', \n",
        "        'literary critic', \n",
        "        'novelist', \n",
        "        'autobiographer', \n",
        "        'diarist', \n",
        "        'biographer'\n",
        "    ],\n",
        "    cinemaMusicTheatre : [\n",
        "        'film actress', \n",
        "        'cinematographer', \n",
        "        'camera operator', \n",
        "        'filmmaker', \n",
        "        'film director', \n",
        "        'director', \n",
        "        'film editor', \n",
        "        'screenwriter', \n",
        "        'film producer', \n",
        "        'actress', \n",
        "        'stage actress', \n",
        "        'choreographer', \n",
        "        'ballet dancer', \n",
        "        'singer'\n",
        "    ],\n",
        "    mediaArt : [\n",
        "        'photojournalist',\n",
        "        'war photographer',\n",
        "        'portrait photographer',\n",
        "        'fashion photographer',\n",
        "        'television producer',\n",
        "        'multi-media artist',\n",
        "        'music video director',\n",
        "        'installation artist',\n",
        "        'conceptual artist'\n",
        "    ],\n",
        "    nonArtistic : [\n",
        "        'botanist',\n",
        "        'model',\n",
        "        'journalist',\n",
        "        'activist',\n",
        "        'teacher',\n",
        "        'hatter',\n",
        "        'oceanographer',\n",
        "        'wet nurse',\n",
        "        'resistance fighter',\n",
        "        'anthropologist',\n",
        "        'feminist',\n",
        "        'business woman',\n",
        "        'politician',\n",
        "        'editor',\n",
        "        'spy',\n",
        "        'printmaker',\n",
        "        'translator'\n",
        "    ]\n",
        "};\n",
        "////////////////////////////////////////////////////////////////////////////////////////////////////////////////////////\n",
        "\n",
        "// Full list of occupations\n",
        "var allOccupations = [\n",
        "    'writer', \n",
        "    'illustrator', \n",
        "    'botanical collector', \n",
        "    'botanist', \n",
        "    'courtesan', \n",
        "    'artist', \n",
        "    'model', \n",
        "    'painter', \n",
        "    'photojournalist', \n",
        "    'journalist', \n",
        "    'architectural photographer', \n",
        "    'war photographer', \n",
        "    'portrait photographer', \n",
        "    'fashion photographer', \n",
        "    'actress', \n",
        "    'stage actress', \n",
        "    'film actress', \n",
        "    'activist', \n",
        "    'teacher', \n",
        "    'opinion journalist', \n",
        "    'architect', \n",
        "    'urban planner', \n",
        "    'drawer', \n",
        "    'university teacher', \n",
        "    'designer', \n",
        "    'resistance fighter', \n",
        "    'art dealer', \n",
        "    'graphic designer', \n",
        "    'illustartor', \n",
        "    'graphic artist', \n",
        "    'textile artist', \n",
        "    'sculptor', \n",
        "    'industrial designer', \n",
        "    'spy', \n",
        "    'literary critic', \n",
        "    'novelist', \n",
        "    'autobiographer', \n",
        "    'poet', \n",
        "    'choreographer', \n",
        "    'documentarian', \n",
        "    'war correspondent', \n",
        "    'glass artist', \n",
        "    'printmaker', \n",
        "    'translator', \n",
        "    'cinematographer', \n",
        "    'camera operator', \n",
        "    'filmmaker', \n",
        "    'editor', \n",
        "    'film director', \n",
        "    'director', \n",
        "    'fashion designer', \n",
        "    'film editor', \n",
        "    'singer', \n",
        "    'hatter', \n",
        "    'screenwriter', \n",
        "    'oceanographer', \n",
        "    'diarist', \n",
        "    'wet nurse', \n",
        "    'French Resistance fighter', \n",
        "    'anthropologist', \n",
        "    'feminist', \n",
        "    'ballet dancer', \n",
        "    'visual artist', \n",
        "    'business woman', \n",
        "    'politician', \n",
        "    'publisher', \n",
        "    'fashion editor', \n",
        "    'collagist', \n",
        "    'multi-media artist', \n",
        "    'biographer', \n",
        "    'installation artist', \n",
        "    'conceptual artist', \n",
        "    'video artist', \n",
        "    'television producer', \n",
        "    'exhibition curator', \n",
        "    'performance artist', \n",
        "    'art theorist', \n",
        "    'video installation artist', \n",
        "    'music video director', \n",
        "    'pedagogue', \n",
        "    'film producer', \n",
        "    'actor'\n",
        "];\n",
        "////////////////////////////////////////////////////////////////////////////////////////////////////////////////////////\n",
        "\n",
        "// Chart: countries\n",
        "var countriesChart;\n",
        "\n",
        "var countries = {};\n",
        "var countriesLabels = [];\n",
        "var countriesValues = [];\n",
        "////////////////////////////////////////////////////////////////////////////////////////////////////////////////////////\n",
        "\n",
        "// Chart: occupations over the countries\n",
        "var occupationsCountriesChart;\n",
        "\n",
        "var countriesOccupations = {}\n",
        "\n",
        "const selectedCountries = [\n",
        "    'United States of America',\n",
        "    'France',\n",
        "    'Germany',\n",
        "    'United Kingdom'\n",
        "];\n",
        "\n",
        "const selectedOccupations = [\n",
        "    'architectural photographer',\n",
        "    'sculptor',\n",
        "    'writer',\n",
        "    'painter',\n",
        "    'film director',\n",
        "    'photojournalist',\n",
        "    'model',\n",
        "    'war photographer',\n",
        "    'screenwriter',\n",
        "    'visual artist',\n",
        "    'teacher',\n",
        "    'printmaker',\n",
        "    'journalist'\n",
        "];\n",
        "////////////////////////////////////////////////////////////////////////////////////////////////////////////////////////\n",
        "\n",
        "// Chart: cake\n",
        "var phTypeChart;\n",
        "////////////////////////////////////////////////////////////////////////////////////////////////////////////////////////\n",
        "\n",
        "// Link API\n",
        "const urlTimeLine = 'https://docs.google.com/spreadsheets/d/e/2PACX-1vQsRkWcOsiueCplEVwhyWjtVqUHvG94knzINrD5-pgrzcO31_anwLXhDzBN-Lgy9NzqEbzX7ei66X6L/pub?gid=0&single=true&output=csv';\n",
        "const urlCountry = 'https://docs.google.com/spreadsheets/d/e/2PACX-1vQsRkWcOsiueCplEVwhyWjtVqUHvG94knzINrD5-pgrzcO31_anwLXhDzBN-Lgy9NzqEbzX7ei66X6L/pub?gid=1905568726&single=true&output=csv';\n",
        "const urlOccupations = 'https://docs.google.com/spreadsheets/d/e/2PACX-1vQsRkWcOsiueCplEVwhyWjtVqUHvG94knzINrD5-pgrzcO31_anwLXhDzBN-Lgy9NzqEbzX7ei66X6L/pub?gid=1144740092&single=true&output=csv';\n",
        "////////////////////////////////////////////////////////////////////////////////////////////////////////////////////////\n",
        "\n",
        "// Colors (17)\n",
        "const graphBackgroundColor = [\n",
        "    'rgba(251, 80, 18, 0.6)',\n",
        "    'rgba(1, 253, 246, 0.6)',\n",
        "    'rgba(203, 186, 237, 0.6)',\n",
        "    'rgba(233, 223, 0, 0.6)',\n",
        "    'rgba(3, 252, 186, 0.6)',\n",
        "    'rgba(150, 189, 198, 0.6)',\n",
        "    'rgba(129, 150, 143, 0.6)',\n",
        "    'rgba(232, 204, 191, 0.6)',\n",
        "    'rgba(42, 42, 114, 0.6)',\n",
        "    'rgba(233, 214, 236, 0.6)',\n",
        "    'rgba(233, 128, 110, 0.6)',\n",
        "    'rgba(197, 155, 118, 0.6)',\n",
        "    'rgba(120, 188, 97, 0.6)',\n",
        "    'rgba(192, 199, 129, 0.6)',\n",
        "    'rgba(255, 172, 228, 0.6)',\n",
        "    'rgba(236, 78, 32, 0.6)',\n",
        "    'rgba(138, 79, 125, 0.6)'\n",
        "];\n",
        "\n",
        "const graphBorderColor = [\n",
        "    'rgba(251, 80, 18, 1)',\n",
        "    'rgba(1, 253, 246, 1)',\n",
        "    'rgba(203, 186, 237, 1)',\n",
        "    'rgba(233, 223, 0, 1)',\n",
        "    'rgba(3, 252, 186, 1)',\n",
        "    'rgba(150, 189, 198, 1)',\n",
        "    'rgba(129, 150, 143, 1)',\n",
        "    'rgba(232, 204, 191, 1)',\n",
        "    'rgba(42, 42, 114, 1)',\n",
        "    'rgba(233, 214, 236, 1)',\n",
        "    'rgba(233, 128, 110, 1)',\n",
        "    'rgba(197, 155, 118, 1)',\n",
        "    'rgba(120, 188, 97, 1)',\n",
        "    'rgba(192, 199, 129, 1)',\n",
        "    'rgba(255, 172, 228, 1)',\n",
        "    'rgba(236, 78, 32, 1)',\n",
        "    'rgba(138, 79, 125, 1)'\n",
        "];\n",
        "////////////////////////////////////////////////////////////////////////////////////////////////////////////////////////\n",
        "\n",
        "// Photographer class\n",
        "class photographerData {\n",
        "    constructor(name = '', country = '', occupations = [], birthDate = '', deathDate = '', phLink = '', cLink = '', birthDecade = '', deathDecade = '', type = '') {\n",
        "        this.name = name;\n",
        "        this.country = country;\n",
        "        this.occupations = occupations;\n",
        "        this.birthDate = birthDate;\n",
        "        this.deathDate = deathDate;\n",
        "        this.phLink = phLink;\n",
        "        this.cLink = cLink;\n",
        "        this.birthDecade = birthDecade;\n",
        "        this.deathDecade = deathDecade;\n",
        "        this.type = type;\n",
        "    }\n",
        "\n",
        "    // Set methods\n",
        "    setName(name) {\n",
        "        this.name = name;\n",
        "    }\n",
        "\n",
        "    setCountry(country) {\n",
        "        this.country = country;\n",
        "    }\n",
        "\n",
        "    setOccupations(occupations) {\n",
        "        this.occupations = occupations;\n",
        "    }\n",
        "\n",
        "    setBirthDate(birthDate) {\n",
        "        this.birthDate = birthDate;\n",
        "    }\n",
        "\n",
        "    setDeathDate(deathDate) {\n",
        "        this.deathDate = deathDate;\n",
        "    }\n",
        "\n",
        "    setPhLink(phLink) {\n",
        "        this.phLink = phLink;\n",
        "    }\n",
        "\n",
        "    setCLink(cLink) {\n",
        "        this.cLink = cLink;\n",
        "    }\n",
        "\n",
        "    setBirthDecade(birthDecade) {\n",
        "        this.birthDecade = birthDecade;\n",
        "    }\n",
        "\n",
        "    setDeathDecade(deathDecade) {\n",
        "        this.deathDecade = deathDecade;\n",
        "    }\n",
        "\n",
        "    setType(type) {\n",
        "        this.type = type;\n",
        "    }\n",
        "\n",
        "    // Get methods\n",
        "    getName() {\n",
        "        return this.name;\n",
        "    }\n",
        "\n",
        "    getCountry() {\n",
        "        return this.country;\n",
        "    }\n",
        "\n",
        "    getOccupations() {\n",
        "        return this.occupations;\n",
        "    }\n",
        "\n",
        "    getBirthDate() {\n",
        "        return this.birthDate;\n",
        "    }\n",
        "\n",
        "    getDeathDate() {\n",
        "        return this.deathDate;\n",
        "    }\n",
        "\n",
        "    getPhLink() {\n",
        "        return this.phLink;\n",
        "    }\n",
        "\n",
        "    getBirthDecade() {\n",
        "        return this.birthDecade;\n",
        "    }\n",
        "\n",
        "    getDeathDecade() {\n",
        "        return this.deathDecade;\n",
        "    }\n",
        "\n",
        "    getType() {\n",
        "        return this.type;\n",
        "    }\n",
        "\n",
        "}"
      ]
    },
    {
      "cell_type": "markdown",
      "metadata": {},
      "source": [
        "<h4>Lettura dei file</h4>"
      ]
    },
    {
      "cell_type": "code",
      "execution_count": 2,
      "metadata": {
        "trusted": true
      },
      "outputs": [
        {
          "data": {
            "application/javascript": "const initNames = async (csvUrl = './dataset/Country.csv') => {\n    // Reset globals\n    dataSet = [];\n\n    // Read data\n    const data = await (await fetch(csvUrl)).text();\n\n    // Split data csv\n    var allRows = data.split(/\\r?\\n|\\r/);\n\n    // Add data to dataSet\n    for (let i=1; i<allRows.length; i++) {\n        var rowCells = allRows[i].split(',');\n\n        let phLink = rowCells[0];\n        let name = rowCells[1];\n        let cLink = rowCells[2];\n        let country = rowCells[3];\n\n        let dataToInsert = new photographerData(name);\n\n        dataSet.push(dataToInsert);\n    }\n}\n\nconst readTimeline = async (csvUrl = './dataset/Timeline.csv') => { // CSV: item,itemLabel,birthDate,deathDate\n    // Read data\n    const data = await (await fetch(csvUrl)).text();\n    \n    // Split data csv\n    var allRows = data.split(/\\r?\\n|\\r/);\n\n    // Add data to dataSet\n    for (let i=1; i<allRows.length; i++) {\n        var rowCells = allRows[i].split(',');\n\n        let phLink = rowCells[0];\n        let name = rowCells[1];\n        let birthDate = rowCells[2];\n        let deathDate = rowCells[3];\n        let type = rowCells[4];\n\n        let objIndex = dataSet.findIndex((ph => ph.name == name));\n\n        if (objIndex != -1){\n            dataSet[objIndex].setBirthDate(birthDate);\n            dataSet[objIndex].setDeathDate(deathDate);\n\n            dataSet[objIndex].setType(type);\n\n            let bYear = birthDate.split('/');\n            let dYear = deathDate.split('/');\n\n            if (deathDate === '01/05/2022'){\n                dataSet[objIndex].setDeathDecade(2020);\n                maxDecade = 2020;\n            }\n            else{\n                dataSet[objIndex].setDeathDecade(parseInt(dYear[2]/10)*10);\n\n                maxDecade = Math.max(maxDecade, dataSet[objIndex].getDeathDecade());\n            }\n\n            dataSet[objIndex].setBirthDecade(parseInt(bYear[2]/10)*10);\n\n            minDecade = Math.min(minDecade, dataSet[objIndex].getBirthDecade());\n        }\n        else throw new Error('ReadTimeline -> indice non trovato ' + name);\n    }\n}\n",
            "text/plain": [
              "<IPython.core.display.Javascript object>"
            ]
          },
          "metadata": {},
          "output_type": "display_data"
        }
      ],
      "source": [
        "%%js\n",
        "const initNames = async (csvUrl = './dataset/Country.csv') => {\n",
        "    // Reset globals\n",
        "    dataSet = [];\n",
        "\n",
        "    // Read data\n",
        "    const data = await (await fetch(csvUrl)).text();\n",
        "\n",
        "    // Split data csv\n",
        "    var allRows = data.split(/\\r?\\n|\\r/);\n",
        "\n",
        "    // Add data to dataSet\n",
        "    for (let i=1; i<allRows.length; i++) {\n",
        "        var rowCells = allRows[i].split(',');\n",
        "\n",
        "        let phLink = rowCells[0];\n",
        "        let name = rowCells[1];\n",
        "        let cLink = rowCells[2];\n",
        "        let country = rowCells[3];\n",
        "\n",
        "        let dataToInsert = new photographerData(name);\n",
        "\n",
        "        dataSet.push(dataToInsert);\n",
        "    }\n",
        "}\n",
        "\n",
        "const readTimeline = async (csvUrl = './dataset/Timeline.csv') => { // CSV: item,itemLabel,birthDate,deathDate\n",
        "    // Read data\n",
        "    const data = await (await fetch(csvUrl)).text();\n",
        "    \n",
        "    // Split data csv\n",
        "    var allRows = data.split(/\\r?\\n|\\r/);\n",
        "\n",
        "    // Add data to dataSet\n",
        "    for (let i=1; i<allRows.length; i++) {\n",
        "        var rowCells = allRows[i].split(',');\n",
        "\n",
        "        let phLink = rowCells[0];\n",
        "        let name = rowCells[1];\n",
        "        let birthDate = rowCells[2];\n",
        "        let deathDate = rowCells[3];\n",
        "        let type = rowCells[4];\n",
        "\n",
        "        let objIndex = dataSet.findIndex((ph => ph.name == name));\n",
        "\n",
        "        if (objIndex != -1){\n",
        "            dataSet[objIndex].setBirthDate(birthDate);\n",
        "            dataSet[objIndex].setDeathDate(deathDate);\n",
        "\n",
        "            dataSet[objIndex].setType(type);\n",
        "\n",
        "            let bYear = birthDate.split('/');\n",
        "            let dYear = deathDate.split('/');\n",
        "\n",
        "            if (deathDate === '01/05/2022'){\n",
        "                dataSet[objIndex].setDeathDecade(2020);\n",
        "                maxDecade = 2020;\n",
        "            }\n",
        "            else{\n",
        "                dataSet[objIndex].setDeathDecade(parseInt(dYear[2]/10)*10);\n",
        "\n",
        "                maxDecade = Math.max(maxDecade, dataSet[objIndex].getDeathDecade());\n",
        "            }\n",
        "\n",
        "            dataSet[objIndex].setBirthDecade(parseInt(bYear[2]/10)*10);\n",
        "\n",
        "            minDecade = Math.min(minDecade, dataSet[objIndex].getBirthDecade());\n",
        "        }\n",
        "        else throw new Error('ReadTimeline -> indice non trovato ' + name);\n",
        "    }\n",
        "}"
      ]
    },
    {
      "cell_type": "markdown",
      "metadata": {},
      "source": [
        "<h4>Conclusioni</h4>"
      ]
    },
    {
      "cell_type": "markdown",
      "metadata": {},
      "source": [
        "// Inserire conclusioni"
      ]
    },
    {
      "cell_type": "markdown",
      "metadata": {},
      "source": [
        "<h3>2. Geographical perspective</h3>"
      ]
    },
    {
      "cell_type": "markdown",
      "metadata": {},
      "source": [
        "#### Queries"
      ]
    },
    {
      "cell_type": "markdown",
      "metadata": {},
      "source": [
        "    SELECT ?item ?itemLabel ?originCountry ?originCountryLabel WHERE {\n",
        "      SERVICE wikibase:label { bd:serviceParam wikibase:language \"[AUTO_LANGUAGE],en,es,fr,de,nl,it\". }\n",
        "      ?item wdt:P21 wd:Q6581072;\n",
        "        wdt:P31 wd:Q5;\n",
        "        wdt:P106 wd:Q33231.\n",
        "      OPTIONAL { ?item wdt:P27 ?originCountry. }\n",
        "    }"
      ]
    },
    {
      "cell_type": "markdown",
      "metadata": {},
      "source": [
        "// Spiegazione query"
      ]
    },
    {
      "cell_type": "markdown",
      "metadata": {},
      "source": [
        "<h4>Lettura dei file</h4>"
      ]
    },
    {
      "cell_type": "code",
      "execution_count": 3,
      "metadata": {
        "trusted": true
      },
      "outputs": [
        {
          "data": {
            "application/javascript": "const readCountry = async (csvUrl = './dataset/Country.csv') => { // CSV: item,itemLabel,birthCountry,birthCountryLabel\n    // Read data\n    const data = await (await fetch(csvUrl)).text();\n\n    // Split data csv\n    var allRows = data.split(/\\r?\\n|\\r/);\n\n    // Add data to dataSet\n    for (let i=1; i<allRows.length; i++) {\n        var rowCells = allRows[i].split(',');\n\n        let phLink = rowCells[0];\n        let name = rowCells[1];\n        let cLink = rowCells[2];\n        let country = rowCells[3];\n\n        let objIndex = dataSet.findIndex((ph => ph.name == name));\n\n        if (objIndex != -1){\n            dataSet[objIndex].setCountry(country);\n            dataSet[objIndex].setPhLink(phLink);\n            dataSet[objIndex].setCLink(cLink);\n        }\n        else throw new Error('ReadCountry -> indice non trovato ' + name)\n    }\n}\n",
            "text/plain": [
              "<IPython.core.display.Javascript object>"
            ]
          },
          "metadata": {},
          "output_type": "display_data"
        }
      ],
      "source": [
        "%%js\n",
        "const readCountry = async (csvUrl = './dataset/Country.csv') => { // CSV: item,itemLabel,birthCountry,birthCountryLabel\n",
        "    // Read data\n",
        "    const data = await (await fetch(csvUrl)).text();\n",
        "\n",
        "    // Split data csv\n",
        "    var allRows = data.split(/\\r?\\n|\\r/);\n",
        "\n",
        "    // Add data to dataSet\n",
        "    for (let i=1; i<allRows.length; i++) {\n",
        "        var rowCells = allRows[i].split(',');\n",
        "\n",
        "        let phLink = rowCells[0];\n",
        "        let name = rowCells[1];\n",
        "        let cLink = rowCells[2];\n",
        "        let country = rowCells[3];\n",
        "\n",
        "        let objIndex = dataSet.findIndex((ph => ph.name == name));\n",
        "\n",
        "        if (objIndex != -1){\n",
        "            dataSet[objIndex].setCountry(country);\n",
        "            dataSet[objIndex].setPhLink(phLink);\n",
        "            dataSet[objIndex].setCLink(cLink);\n",
        "        }\n",
        "        else throw new Error('ReadCountry -> indice non trovato ' + name)\n",
        "    }\n",
        "}"
      ]
    },
    {
      "cell_type": "markdown",
      "metadata": {},
      "source": [
        "<h4>Conclusioni</h4>"
      ]
    },
    {
      "cell_type": "markdown",
      "metadata": {},
      "source": [
        "// Inserire conclusioni"
      ]
    },
    {
      "cell_type": "markdown",
      "metadata": {},
      "source": [
        "<h3>3. Occupations over the decades</h3>"
      ]
    },
    {
      "cell_type": "markdown",
      "metadata": {},
      "source": [
        "#### Queries"
      ]
    },
    {
      "cell_type": "markdown",
      "metadata": {},
      "source": [
        "    SELECT ?item ?itemLabel ?birthDate ?birthDateLabel ?deathDate ?deathDateLabel WHERE {\n",
        "      SERVICE wikibase:label { bd:serviceParam wikibase:language \"[AUTO_LANGUAGE],en,es,fr,de,nl,it\". }\n",
        "      ?item wdt:P21 wd:Q6581072;\n",
        "        wdt:P31 wd:Q5;\n",
        "        wdt:P106 wd:Q33231.\n",
        "      OPTIONAL { ?item wdt:P569 ?birthDate. }\n",
        "      OPTIONAL { ?item wdt:P570 ?deathDate. }\n",
        "    }\n"
      ]
    },
    {
      "cell_type": "markdown",
      "metadata": {},
      "source": [
        "// Spiegazione query"
      ]
    },
    {
      "cell_type": "markdown",
      "metadata": {},
      "source": [
        "    SELECT ?item ?itemLabel ?occupation ?occupationLabel WHERE {\n",
        "    SERVICE wikibase:label { bd:serviceParam wikibase:language \"[AUTO_LANGUAGE],en,es,fr,de,nl,it\". }\n",
        "    ?item wdt:P21 wd:Q6581072;\n",
        "    wdt:P31 wd:Q5.\n",
        "    ?item wdt:P106 wd:Q33231.\n",
        "    OPTIONAL { ?item wdt:P106 ?occupation. }\n"
      ]
    },
    {
      "cell_type": "markdown",
      "metadata": {},
      "source": [
        "// Spiegazione query"
      ]
    },
    {
      "cell_type": "markdown",
      "metadata": {},
      "source": [
        "<h4>Lettura dei file</h4>"
      ]
    },
    {
      "cell_type": "code",
      "execution_count": 4,
      "metadata": {
        "trusted": true
      },
      "outputs": [
        {
          "data": {
            "application/javascript": "\nconst readOccupations = async (csvUrl = './dataset/Occupations.csv') => { // CSV: item,itemLabel,parallelOccupation,occupationLabel\n    // Read data\n    const data = await (await fetch(csvUrl)).text();\n\n    // Split data csv\n    var allRows = data.split(/\\r?\\n|\\r/);\n\n    // Add data to dataSet\n    for (let i=1; i<allRows.length; i++) {\n        var rowCells = allRows[i].split(',');\n\n        let phLink = rowCells[0];\n        let name = rowCells[1];\n        let ocLinks = rowCells[2];\n        let occupations = rowCells[3];\n\n        let objIndex = dataSet.findIndex((ph => ph.name == name));\n\n        if (objIndex != -1){\n\n            occupations = occupations.split('; ');\n\n            dataSet[objIndex].setOccupations(occupations);\n        }\n        else throw new Error('ReadOccupations -> indice non trovato ' + name);\n    }\n}\n\nconst readTimeline = async (csvUrl = './dataset/Timeline.csv') => { // CSV: item,itemLabel,birthDate,deathDate\n    // Read data\n    const data = await (await fetch(csvUrl)).text();\n    \n    // Split data csv\n    var allRows = data.split(/\\r?\\n|\\r/);\n\n    // Add data to dataSet\n    for (let i=1; i<allRows.length; i++) {\n        var rowCells = allRows[i].split(',');\n\n        let phLink = rowCells[0];\n        let name = rowCells[1];\n        let birthDate = rowCells[2];\n        let deathDate = rowCells[3];\n        let type = rowCells[4];\n\n        let objIndex = dataSet.findIndex((ph => ph.name == name));\n\n        if (objIndex != -1){\n            dataSet[objIndex].setBirthDate(birthDate);\n            dataSet[objIndex].setDeathDate(deathDate);\n\n            dataSet[objIndex].setType(type);\n\n            let bYear = birthDate.split('/');\n            let dYear = deathDate.split('/');\n\n            if (deathDate === '01/05/2022'){\n                dataSet[objIndex].setDeathDecade(2020);\n                maxDecade = 2020;\n            }\n            else{\n                dataSet[objIndex].setDeathDecade(parseInt(dYear[2]/10)*10);\n\n                maxDecade = Math.max(maxDecade, dataSet[objIndex].getDeathDecade());\n            }\n\n            dataSet[objIndex].setBirthDecade(parseInt(bYear[2]/10)*10);\n\n            minDecade = Math.min(minDecade, dataSet[objIndex].getBirthDecade());\n        }\n        else throw new Error('ReadTimeline -> indice non trovato ' + name);\n    }\n}\n",
            "text/plain": [
              "<IPython.core.display.Javascript object>"
            ]
          },
          "metadata": {},
          "output_type": "display_data"
        }
      ],
      "source": [
        "%%js\n",
        "\n",
        "const readOccupations = async (csvUrl = './dataset/Occupations.csv') => { // CSV: item,itemLabel,parallelOccupation,occupationLabel\n",
        "    // Read data\n",
        "    const data = await (await fetch(csvUrl)).text();\n",
        "\n",
        "    // Split data csv\n",
        "    var allRows = data.split(/\\r?\\n|\\r/);\n",
        "\n",
        "    // Add data to dataSet\n",
        "    for (let i=1; i<allRows.length; i++) {\n",
        "        var rowCells = allRows[i].split(',');\n",
        "\n",
        "        let phLink = rowCells[0];\n",
        "        let name = rowCells[1];\n",
        "        let ocLinks = rowCells[2];\n",
        "        let occupations = rowCells[3];\n",
        "\n",
        "        let objIndex = dataSet.findIndex((ph => ph.name == name));\n",
        "\n",
        "        if (objIndex != -1){\n",
        "\n",
        "            occupations = occupations.split('; ');\n",
        "\n",
        "            dataSet[objIndex].setOccupations(occupations);\n",
        "        }\n",
        "        else throw new Error('ReadOccupations -> indice non trovato ' + name);\n",
        "    }\n",
        "}\n",
        "\n",
        "const readTimeline = async (csvUrl = './dataset/Timeline.csv') => { // CSV: item,itemLabel,birthDate,deathDate\n",
        "    // Read data\n",
        "    const data = await (await fetch(csvUrl)).text();\n",
        "    \n",
        "    // Split data csv\n",
        "    var allRows = data.split(/\\r?\\n|\\r/);\n",
        "\n",
        "    // Add data to dataSet\n",
        "    for (let i=1; i<allRows.length; i++) {\n",
        "        var rowCells = allRows[i].split(',');\n",
        "\n",
        "        let phLink = rowCells[0];\n",
        "        let name = rowCells[1];\n",
        "        let birthDate = rowCells[2];\n",
        "        let deathDate = rowCells[3];\n",
        "        let type = rowCells[4];\n",
        "\n",
        "        let objIndex = dataSet.findIndex((ph => ph.name == name));\n",
        "\n",
        "        if (objIndex != -1){\n",
        "            dataSet[objIndex].setBirthDate(birthDate);\n",
        "            dataSet[objIndex].setDeathDate(deathDate);\n",
        "\n",
        "            dataSet[objIndex].setType(type);\n",
        "\n",
        "            let bYear = birthDate.split('/');\n",
        "            let dYear = deathDate.split('/');\n",
        "\n",
        "            if (deathDate === '01/05/2022'){\n",
        "                dataSet[objIndex].setDeathDecade(2020);\n",
        "                maxDecade = 2020;\n",
        "            }\n",
        "            else{\n",
        "                dataSet[objIndex].setDeathDecade(parseInt(dYear[2]/10)*10);\n",
        "\n",
        "                maxDecade = Math.max(maxDecade, dataSet[objIndex].getDeathDecade());\n",
        "            }\n",
        "\n",
        "            dataSet[objIndex].setBirthDecade(parseInt(bYear[2]/10)*10);\n",
        "\n",
        "            minDecade = Math.min(minDecade, dataSet[objIndex].getBirthDecade());\n",
        "        }\n",
        "        else throw new Error('ReadTimeline -> indice non trovato ' + name);\n",
        "    }\n",
        "}"
      ]
    },
    {
      "cell_type": "markdown",
      "metadata": {},
      "source": [
        "<h4>Conclusioni</h4>"
      ]
    },
    {
      "cell_type": "markdown",
      "metadata": {},
      "source": [
        "// Inserire conclusioni"
      ]
    },
    {
      "cell_type": "markdown",
      "metadata": {},
      "source": [
        "<h3>4. Occupations over the countries</h3>"
      ]
    },
    {
      "cell_type": "markdown",
      "metadata": {},
      "source": [
        "#### Queries"
      ]
    },
    {
      "cell_type": "markdown",
      "metadata": {},
      "source": [
        "    SELECT ?item ?itemLabel ?birthDate ?birthDateLabel ?deathDate ?deathDateLabel WHERE {\n",
        "      SERVICE wikibase:label { bd:serviceParam wikibase:language \"[AUTO_LANGUAGE],en,es,fr,de,nl,it\". }\n",
        "      ?item wdt:P21 wd:Q6581072;\n",
        "        wdt:P31 wd:Q5;\n",
        "        wdt:P106 wd:Q33231.\n",
        "      OPTIONAL { ?item wdt:P569 ?birthDate. }\n",
        "      OPTIONAL { ?item wdt:P570 ?deathDate. }\n",
        "    }\n",
        "\n"
      ]
    },
    {
      "cell_type": "markdown",
      "metadata": {},
      "source": [
        "// Spiegazione query"
      ]
    },
    {
      "cell_type": "markdown",
      "metadata": {},
      "source": [
        "    SELECT ?item ?itemLabel ?originCountry ?originCountryLabel WHERE {\n",
        "      SERVICE wikibase:label { bd:serviceParam wikibase:language \"[AUTO_LANGUAGE],en,es,fr,de,nl,it\". }\n",
        "      ?item wdt:P21 wd:Q6581072;\n",
        "        wdt:P31 wd:Q5;\n",
        "        wdt:P106 wd:Q33231.\n",
        "      OPTIONAL { ?item wdt:P27 ?originCountry. }\n",
        "    }\n"
      ]
    },
    {
      "cell_type": "markdown",
      "metadata": {},
      "source": [
        "// Spiegazione query"
      ]
    },
    {
      "cell_type": "markdown",
      "metadata": {},
      "source": [
        "<h4>Lettura dei file</h4>"
      ]
    },
    {
      "cell_type": "code",
      "execution_count": 5,
      "metadata": {
        "trusted": true
      },
      "outputs": [
        {
          "data": {
            "application/javascript": "const readCountry = async (csvUrl = './dataset/Country.csv') => { // CSV: item,itemLabel,birthCountry,birthCountryLabel\n    // Read data\n    const data = await (await fetch(csvUrl)).text();\n\n    // Split data csv\n    var allRows = data.split(/\\r?\\n|\\r/);\n\n    // Add data to dataSet\n    for (let i=1; i<allRows.length; i++) {\n        var rowCells = allRows[i].split(',');\n\n        let phLink = rowCells[0];\n        let name = rowCells[1];\n        let cLink = rowCells[2];\n        let country = rowCells[3];\n\n        let objIndex = dataSet.findIndex((ph => ph.name == name));\n\n        if (objIndex != -1){\n            dataSet[objIndex].setCountry(country);\n            dataSet[objIndex].setPhLink(phLink);\n            dataSet[objIndex].setCLink(cLink);\n        }\n        else throw new Error('ReadCountry -> indice non trovato ' + name)\n    }\n}\n\nconst readOccupations = async (csvUrl = './dataset/Occupations.csv') => { // CSV: item,itemLabel,parallelOccupation,occupationLabel\n    // Read data\n    const data = await (await fetch(csvUrl)).text();\n\n    // Split data csv\n    var allRows = data.split(/\\r?\\n|\\r/);\n\n    // Add data to dataSet\n    for (let i=1; i<allRows.length; i++) {\n        var rowCells = allRows[i].split(',');\n\n        let phLink = rowCells[0];\n        let name = rowCells[1];\n        let ocLinks = rowCells[2];\n        let occupations = rowCells[3];\n\n        let objIndex = dataSet.findIndex((ph => ph.name == name));\n\n        if (objIndex != -1){\n\n            occupations = occupations.split('; ');\n\n            dataSet[objIndex].setOccupations(occupations);\n        }\n        else throw new Error('ReadOccupations -> indice non trovato ' + name);\n    }\n}\n",
            "text/plain": [
              "<IPython.core.display.Javascript object>"
            ]
          },
          "metadata": {},
          "output_type": "display_data"
        }
      ],
      "source": [
        "%%js\n",
        "const readCountry = async (csvUrl = './dataset/Country.csv') => { // CSV: item,itemLabel,birthCountry,birthCountryLabel\n",
        "    // Read data\n",
        "    const data = await (await fetch(csvUrl)).text();\n",
        "\n",
        "    // Split data csv\n",
        "    var allRows = data.split(/\\r?\\n|\\r/);\n",
        "\n",
        "    // Add data to dataSet\n",
        "    for (let i=1; i<allRows.length; i++) {\n",
        "        var rowCells = allRows[i].split(',');\n",
        "\n",
        "        let phLink = rowCells[0];\n",
        "        let name = rowCells[1];\n",
        "        let cLink = rowCells[2];\n",
        "        let country = rowCells[3];\n",
        "\n",
        "        let objIndex = dataSet.findIndex((ph => ph.name == name));\n",
        "\n",
        "        if (objIndex != -1){\n",
        "            dataSet[objIndex].setCountry(country);\n",
        "            dataSet[objIndex].setPhLink(phLink);\n",
        "            dataSet[objIndex].setCLink(cLink);\n",
        "        }\n",
        "        else throw new Error('ReadCountry -> indice non trovato ' + name)\n",
        "    }\n",
        "}\n",
        "\n",
        "const readOccupations = async (csvUrl = './dataset/Occupations.csv') => { // CSV: item,itemLabel,parallelOccupation,occupationLabel\n",
        "    // Read data\n",
        "    const data = await (await fetch(csvUrl)).text();\n",
        "\n",
        "    // Split data csv\n",
        "    var allRows = data.split(/\\r?\\n|\\r/);\n",
        "\n",
        "    // Add data to dataSet\n",
        "    for (let i=1; i<allRows.length; i++) {\n",
        "        var rowCells = allRows[i].split(',');\n",
        "\n",
        "        let phLink = rowCells[0];\n",
        "        let name = rowCells[1];\n",
        "        let ocLinks = rowCells[2];\n",
        "        let occupations = rowCells[3];\n",
        "\n",
        "        let objIndex = dataSet.findIndex((ph => ph.name == name));\n",
        "\n",
        "        if (objIndex != -1){\n",
        "\n",
        "            occupations = occupations.split('; ');\n",
        "\n",
        "            dataSet[objIndex].setOccupations(occupations);\n",
        "        }\n",
        "        else throw new Error('ReadOccupations -> indice non trovato ' + name);\n",
        "    }\n",
        "}"
      ]
    },
    {
      "cell_type": "markdown",
      "metadata": {},
      "source": [
        "<h4>Conclusioni</h4>"
      ]
    },
    {
      "cell_type": "markdown",
      "metadata": {},
      "source": [
        "// Inserire conclusioni"
      ]
    }
  ],
  "metadata": {
    "interpreter": {
      "hash": "c6e4bfc10122ab6aea86c6528d94fa9d1016597aade29cab34008c375fccd514"
    },
    "kernelspec": {
      "display_name": "Pyolite",
      "language": "python",
      "name": "python3"
    },
    "language_info": {
      "codemirror_mode": {
        "name": "ipython",
        "version": 3
      },
      "file_extension": ".py",
      "mimetype": "text/x-python",
      "name": "python",
      "nbconvert_exporter": "python",
      "pygments_lexer": "ipython3",
      "version": "3.10.2"
    }
  },
  "nbformat": 4,
  "nbformat_minor": 4
}
